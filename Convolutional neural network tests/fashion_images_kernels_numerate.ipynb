{
 "cells": [
  {
   "cell_type": "code",
   "execution_count": 6,
   "metadata": {},
   "outputs": [
    {
     "data": {
      "image/png": "[encoded data removed]",
      "text/plain": [
       "<Figure size 1000x500 with 32 Axes>"
      ]
     },
     "metadata": {},
     "output_type": "display_data"
    },
    {
     "name": "stdout",
     "output_type": "stream",
     "text": [
      "Epoch 1/3\n",
      "   5/1875 [..............................] - ETA: 36s - loss: 2.2876 - accuracy: 0.1125 "
     ]
    },
    {
     "name": "stderr",
     "output_type": "stream",
     "text": [
      "2023-02-25 14:44:49.692259: I tensorflow/core/grappler/optimizers/custom_graph_optimizer_registry.cc:113] Plugin optimizer for device_type GPU is enabled.\n"
     ]
    },
    {
     "name": "stdout",
     "output_type": "stream",
     "text": [
      "1875/1875 [==============================] - ETA: 0s - loss: 0.4754 - accuracy: 0.8252"
     ]
    },
    {
     "name": "stderr",
     "output_type": "stream",
     "text": [
      "2023-02-25 14:45:05.223568: I tensorflow/core/grappler/optimizers/custom_graph_optimizer_registry.cc:113] Plugin optimizer for device_type GPU is enabled.\n"
     ]
    },
    {
     "name": "stdout",
     "output_type": "stream",
     "text": [
      "1875/1875 [==============================] - 17s 9ms/step - loss: 0.4754 - accuracy: 0.8252 - val_loss: 0.3422 - val_accuracy: 0.8783\n",
      "Epoch 2/3\n",
      "1875/1875 [==============================] - 17s 9ms/step - loss: 0.3054 - accuracy: 0.8870 - val_loss: 0.2986 - val_accuracy: 0.8916\n",
      "Epoch 3/3\n",
      "1875/1875 [==============================] - 16s 9ms/step - loss: 0.2593 - accuracy: 0.9043 - val_loss: 0.2799 - val_accuracy: 0.8991\n"
     ]
    },
    {
     "data": {
      "image/png": "[encoded data removed]",
      "text/plain": [
       "<Figure size 1000x500 with 32 Axes>"
      ]
     },
     "metadata": {},
     "output_type": "display_data"
    }
   ],
   "source": [
    "import tensorflow as tf\n",
    "import numpy as np\n",
    "import matplotlib.pyplot as plt\n",
    "\n",
    "# Load and preprocess the dataset\n",
    "fashion_mnist = tf.keras.datasets.fashion_mnist\n",
    "(train_images, train_labels), (test_images, test_labels) = fashion_mnist.load_data()\n",
    "train_images = train_images.reshape((60000, 28, 28, 1))\n",
    "train_images = train_images / 255.0\n",
    "test_images = test_images.reshape((10000, 28, 28, 1))\n",
    "test_images = test_images / 255.0\n",
    "\n",
    "# Define the CNN architecture\n",
    "model = tf.keras.models.Sequential([\n",
    "    tf.keras.layers.Conv2D(32, (3, 3), activation='relu', input_shape=(28, 28, 1), name='conv2d_1'),\n",
    "    tf.keras.layers.MaxPooling2D((2, 2), name='max_pooling2d_1'),\n",
    "    tf.keras.layers.Conv2D(64, (3, 3), activation='relu', name='conv2d_2'),\n",
    "    tf.keras.layers.MaxPooling2D((2, 2), name='max_pooling2d_2'),\n",
    "    tf.keras.layers.Conv2D(128, (3, 3), activation='relu', name='conv2d_3'),\n",
    "    tf.keras.layers.Flatten(name='flatten'),\n",
    "    tf.keras.layers.Dense(128, activation='relu', name='dense_1'),\n",
    "    tf.keras.layers.Dense(10, activation='softmax', name='output')\n",
    "])\n",
    "\n",
    "# Compile the model\n",
    "model.compile(optimizer='adam',\n",
    "              loss='sparse_categorical_crossentropy',\n",
    "              metrics=['accuracy'])\n",
    "\n",
    "# Define a function to display the convolutional filters as matrices of numbers\n",
    "def display_convolutional_filters(layer_name):\n",
    "    layer = model.get_layer(name=layer_name)\n",
    "    weights = layer.get_weights()[0]\n",
    "    fig, axs = plt.subplots(nrows=4, ncols=8, figsize=(10, 5))\n",
    "    fig.suptitle(layer_name)\n",
    "    for i in range(4):\n",
    "        for j in range(8):\n",
    "            axs[i][j].imshow(weights[:, :, 0, i * 8 + j])\n",
    "            axs[i][j].axis('off')\n",
    "            axs[i][j].set_xticklabels([])\n",
    "            axs[i][j].set_yticklabels([])\n",
    "            axs[i][j].set_aspect('equal')\n",
    "        \n",
    "# Display the convolutional filters before training\n",
    "display_convolutional_filters('conv2d_1')\n",
    "plt.show()\n",
    "\n",
    "# Train the model\n",
    "history = model.fit(train_images, train_labels, epochs=3, validation_data=(test_images, test_labels))\n",
    "\n",
    "# Display the convolutional filters after training\n",
    "display_convolutional_filters('conv2d_1')\n",
    "plt.show()\n"
   ]
  }
 ],
 "metadata": {
  "kernelspec": {
   "display_name": "Python 3.10 (tensorflow)",
   "language": "python",
   "name": "tensorflow"
  },
  "language_info": {
   "codemirror_mode": {
    "name": "ipython",
    "version": 3
   },
   "file_extension": ".py",
   "mimetype": "text/x-python",
   "name": "python",
   "nbconvert_exporter": "python",
   "pygments_lexer": "ipython3",
   "version": "3.10.9"
  },
  "orig_nbformat": 4,
  "vscode": {
   "interpreter": {
    "hash": "aee8b7b246df8f9039afb4144a1f6fd8d2ca17a180786b69acc140d282b71a49"
   }
  }
 },
 "nbformat": 4,
 "nbformat_minor": 2
}
