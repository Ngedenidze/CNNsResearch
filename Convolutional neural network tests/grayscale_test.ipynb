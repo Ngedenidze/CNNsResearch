{
 "cells": [
  {
   "cell_type": "code",
   "execution_count": 3,
   "metadata": {},
   "outputs": [
    {
     "name": "stdout",
     "output_type": "stream",
     "text": [
      "Epoch 0\n",
      "   7/1875 [..............................] - ETA: 15s - loss: 2.2851 - accuracy: 0.1786 "
     ]
    },
    {
     "name": "stderr",
     "output_type": "stream",
     "text": [
      "2023-02-23 17:09:13.424883: I tensorflow/core/grappler/optimizers/custom_graph_optimizer_registry.cc:113] Plugin optimizer for device_type GPU is enabled.\n"
     ]
    },
    {
     "name": "stdout",
     "output_type": "stream",
     "text": [
      "1868/1875 [============================>.] - ETA: 0s - loss: 0.1936 - accuracy: 0.9422"
     ]
    },
    {
     "name": "stderr",
     "output_type": "stream",
     "text": [
      "2023-02-23 17:09:25.949500: I tensorflow/core/grappler/optimizers/custom_graph_optimizer_registry.cc:113] Plugin optimizer for device_type GPU is enabled.\n"
     ]
    },
    {
     "name": "stdout",
     "output_type": "stream",
     "text": [
      "1875/1875 [==============================] - 14s 7ms/step - loss: 0.1932 - accuracy: 0.9423 - val_loss: 0.0699 - val_accuracy: 0.9776\n",
      "1/1 [==============================] - 0s 36ms/step\n"
     ]
    },
    {
     "name": "stderr",
     "output_type": "stream",
     "text": [
      "2023-02-23 17:09:27.019858: I tensorflow/core/grappler/optimizers/custom_graph_optimizer_registry.cc:113] Plugin optimizer for device_type GPU is enabled.\n"
     ]
    },
    {
     "data": {
      "image/png": "[encoded data removed]",
      "text/plain": [
       "<Figure size 640x480 with 1 Axes>"
      ]
     },
     "metadata": {},
     "output_type": "display_data"
    },
    {
     "ename": "NameError",
     "evalue": "name 'img' is not defined",
     "output_type": "error",
     "traceback": [
      "\u001b[0;31m---------------------------------------------------------------------------\u001b[0m",
      "\u001b[0;31mNameError\u001b[0m                                 Traceback (most recent call last)",
      "Cell \u001b[0;32mIn[3], line 67\u001b[0m\n\u001b[1;32m     65\u001b[0m activations \u001b[39m=\u001b[39m activation_model\u001b[39m.\u001b[39mpredict(test_images[:\u001b[39m1\u001b[39m])\n\u001b[1;32m     66\u001b[0m layer_names \u001b[39m=\u001b[39m [layer\u001b[39m.\u001b[39mname \u001b[39mfor\u001b[39;00m layer \u001b[39min\u001b[39;00m model\u001b[39m.\u001b[39mlayers]\n\u001b[0;32m---> 67\u001b[0m display_activations(activations, layer_names, test_images[\u001b[39m0\u001b[39;49m])\n",
      "Cell \u001b[0;32mIn[3], line 36\u001b[0m, in \u001b[0;36mdisplay_activations\u001b[0;34m(activations, layer_names, input_image)\u001b[0m\n\u001b[1;32m     33\u001b[0m plt\u001b[39m.\u001b[39mshow()\n\u001b[1;32m     35\u001b[0m \u001b[39m# Display the layer activations for the first test image\u001b[39;00m\n\u001b[0;32m---> 36\u001b[0m activations \u001b[39m=\u001b[39m activation_model\u001b[39m.\u001b[39mpredict(np\u001b[39m.\u001b[39mexpand_dims(img, axis\u001b[39m=\u001b[39m\u001b[39m0\u001b[39m))\n\u001b[1;32m     37\u001b[0m layer_names \u001b[39m=\u001b[39m [layer\u001b[39m.\u001b[39mname \u001b[39mfor\u001b[39;00m layer \u001b[39min\u001b[39;00m model\u001b[39m.\u001b[39mlayers]\n\u001b[1;32m     38\u001b[0m fig, axs \u001b[39m=\u001b[39m plt\u001b[39m.\u001b[39msubplots(nrows\u001b[39m=\u001b[39m\u001b[39m1\u001b[39m, ncols\u001b[39m=\u001b[39m\u001b[39mlen\u001b[39m(layer_names), figsize\u001b[39m=\u001b[39m(\u001b[39m20\u001b[39m, \u001b[39m2\u001b[39m))\n",
      "\u001b[0;31mNameError\u001b[0m: name 'img' is not defined"
     ]
    }
   ],
   "source": [
    "import tensorflow as tf\n",
    "import numpy as np\n",
    "import matplotlib.pyplot as plt\n",
    "\n",
    "# Load and preprocess the dataset\n",
    "mnist = tf.keras.datasets.mnist\n",
    "(train_images, train_labels), (test_images, test_labels) = mnist.load_data()\n",
    "train_images = train_images.reshape((60000, 28, 28, 1))\n",
    "train_images = train_images / 255.0\n",
    "test_images = test_images.reshape((10000, 28, 28, 1))\n",
    "test_images = test_images / 255.0\n",
    "\n",
    "# Define the CNN architecture\n",
    "model = tf.keras.models.Sequential([\n",
    "    tf.keras.layers.Conv2D(32, (3, 3), activation='relu', input_shape=(28, 28, 1), name='conv2d_1'),\n",
    "    tf.keras.layers.MaxPooling2D((2, 2), name='max_pooling2d_1'),\n",
    "    tf.keras.layers.Conv2D(32, (3, 3), activation='relu', name='conv2d_2'),\n",
    "    tf.keras.layers.MaxPooling2D((2, 2), name='max_pooling2d_2'),\n",
    "    tf.keras.layers.Flatten(name='flatten'),\n",
    "    tf.keras.layers.Dense(10, activation='softmax', name='dense')\n",
    "])\n",
    "\n",
    "# Compile the model\n",
    "model.compile(optimizer='adam',\n",
    "              loss='sparse_categorical_crossentropy',\n",
    "              metrics=['accuracy'])\n",
    "history = model.fit(train_images, train_labels, epochs=1, validation_data=(test_images, test_labels))\n",
    "\n",
    "\n",
    "# Define a function to display the activations of each layer\n",
    "# Display the activation outputs of the convolutional layers as images on a grid\n",
    "for layer_name, layer_activation in zip(layer_names, activations):\n",
    "    n_features = layer_activation.shape[-1]\n",
    "    size = layer_activation.shape[1]\n",
    "    n_cols = n_features // 8\n",
    "    display_grid = np.zeros((size * n_cols, 8 * size))\n",
    "    for col in range(n_cols):\n",
    "        for row in range(8):\n",
    "            channel_image = layer_activation[0, :, :, col * 8 + row]\n",
    "            channel_image -= channel_image.mean()\n",
    "            channel_image /= channel_image.std()\n",
    "            channel_image *= 64\n",
    "            channel_image += 128\n",
    "            channel_image = np.clip(channel_image, 0, 255).astype('uint8')\n",
    "            display_grid[col * size:(col + 1) * size, row * size:(row + 1) * size] = channel_image\n",
    "    scale = 1. / size\n",
    "    plt.figure(figsize=(scale * display_grid.shape[1], scale * display_grid.shape[0]))\n",
    "    plt.title(layer_name)\n",
    "    plt.grid(False)\n",
    "    plt.imshow(display_grid, aspect= 'auto')    \n",
    "plt.show()\n",
    "\n",
    "# Train the model and display the activations after each epoch\n",
    "\n",
    "\n"
   ]
  }
 ],
 "metadata": {
  "kernelspec": {
   "display_name": "Python 3.10 (tensorflow)",
   "language": "python",
   "name": "tensorflow"
  },
  "language_info": {
   "codemirror_mode": {
    "name": "ipython",
    "version": 3
   },
   "file_extension": ".py",
   "mimetype": "text/x-python",
   "name": "python",
   "nbconvert_exporter": "python",
   "pygments_lexer": "ipython3",
   "version": "3.10.9"
  },
  "orig_nbformat": 4,
  "vscode": {
   "interpreter": {
    "hash": "3d6dc0d995d30a111fbecb8bfd48ff9ac7ef3957268ee37722700d2342d41e2e"
   }
  }
 },
 "nbformat": 4,
 "nbformat_minor": 2
}
