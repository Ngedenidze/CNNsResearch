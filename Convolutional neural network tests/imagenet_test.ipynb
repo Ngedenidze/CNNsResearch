{
 "cells": [
  {
   "cell_type": "code",
   "execution_count": 1,
   "metadata": {},
   "outputs": [
    {
     "name": "stderr",
     "output_type": "stream",
     "text": [
      "/Users/gedena/miniconda3/lib/python3.10/site-packages/scipy/__init__.py:146: UserWarning: A NumPy version >=1.16.5 and <1.23.0 is required for this version of SciPy (detected version 1.23.0\n",
      "  warnings.warn(f\"A NumPy version >={np_minversion} and <{np_maxversion}\"\n"
     ]
    },
    {
     "ename": "AttributeError",
     "evalue": "module 'keras.api._v2.keras.datasets' has no attribute 'imagenet'",
     "output_type": "error",
     "traceback": [
      "\u001b[0;31m---------------------------------------------------------------------------\u001b[0m",
      "\u001b[0;31mAttributeError\u001b[0m                            Traceback (most recent call last)",
      "Cell \u001b[0;32mIn[1], line 7\u001b[0m\n\u001b[1;32m      4\u001b[0m \u001b[39mimport\u001b[39;00m \u001b[39mtime\u001b[39;00m\n\u001b[1;32m      6\u001b[0m \u001b[39m# Load and preprocess the ImageNet dataset\u001b[39;00m\n\u001b[0;32m----> 7\u001b[0m (train_images, train_labels), (test_images, test_labels) \u001b[39m=\u001b[39m tf\u001b[39m.\u001b[39;49mkeras\u001b[39m.\u001b[39;49mdatasets\u001b[39m.\u001b[39;49mimagenet\u001b[39m.\u001b[39mload_data()\n\u001b[1;32m      8\u001b[0m train_images \u001b[39m=\u001b[39m train_images \u001b[39m/\u001b[39m \u001b[39m255.0\u001b[39m\n\u001b[1;32m      9\u001b[0m test_images \u001b[39m=\u001b[39m test_images \u001b[39m/\u001b[39m \u001b[39m255.0\u001b[39m\n",
      "\u001b[0;31mAttributeError\u001b[0m: module 'keras.api._v2.keras.datasets' has no attribute 'imagenet'"
     ]
    }
   ],
   "source": [
    "import tensorflow as tf\n",
    "import numpy as np\n",
    "import matplotlib.pyplot as plt\n",
    "import time\n",
    "\n",
    "# Load and preprocess the ImageNet dataset\n",
    "(train_images, train_labels), (test_images, test_labels) = tf.keras.datasets.imagenet.load_data()\n",
    "train_images = train_images / 255.0\n",
    "test_images = test_images / 255.0\n",
    "\n",
    "# Define the CNN architecture\n",
    "model = tf.keras.models.Sequential([\n",
    "    tf.keras.layers.Conv2D(32, (3, 3), activation='relu', input_shape=(224, 224, 3), name='conv2d_1', trainable=False),\n",
    "    tf.keras.layers.Conv2D(32, (3, 3), activation='relu', name='conv2d_2', trainable=False),\n",
    "    tf.keras.layers.Conv2D(32, (3, 3), activation='relu', name='conv2d_3', trainable=False),\n",
    "    tf.keras.layers.Flatten(name='flatten'),\n",
    "    tf.keras.layers.Dense(1000, activation='softmax', name='output')\n",
    "])\n",
    "\n",
    "# Compile the model\n",
    "model.compile(optimizer='Adam',\n",
    "              loss='sparse_categorical_crossentropy',\n",
    "              metrics=['accuracy'])\n",
    "\n",
    "# Train the model and display the activations after each epoch\n",
    "start_time = time.time()\n",
    "history = model.fit(train_images, train_labels, epochs=5, validation_data=(test_images, test_labels))\n",
    "end_time = time.time()\n",
    "\n",
    "# Get the layer outputs and names\n",
    "layer_names = ['conv2d_1', 'max_pooling2d_1', 'conv2d_2', 'max_pooling2d_2', 'conv2d_3']\n",
    "layer_outputs = [layer.output for layer in model.layers if layer.name in layer_names]\n",
    "activation_model = tf.keras.models.Model(inputs=model.input, outputs=layer_outputs)\n",
    "\n",
    "# Get the activation outputs for the test images\n",
    "activations = activation_model.predict(test_images)\n",
    "\n",
    "# Display the activation outputs of the convolutional layers as images on a grid\n",
    "test_loss, test_acc = model.evaluate(test_images, test_labels, verbose=2)\n",
    "print(\"Test accuracy:\", test_acc)\n",
    "print(\"Time taken:\", end_time - start_time, \"seconds\")\n",
    "\n",
    "# Plot the accuracy graph with time taken\n",
    "plt.plot(history.history['accuracy'])\n",
    "plt.plot(history.history['val_accuracy'])\n",
    "plt.title('Model Accuracy(without back propagation)\\nTime taken: {:.2f} seconds'.format(end_time - start_time))\n",
    "plt.xlabel('Epoch')\n",
    "plt.ylabel('Accuracy')\n",
    "plt.legend(['train', 'test'], loc='upper left')\n",
    "plt.show()\n"
   ]
  }
 ],
 "metadata": {
  "kernelspec": {
   "display_name": "Python 3.10 (tensorflow)",
   "language": "python",
   "name": "tensorflow"
  },
  "language_info": {
   "codemirror_mode": {
    "name": "ipython",
    "version": 3
   },
   "file_extension": ".py",
   "mimetype": "text/x-python",
   "name": "python",
   "nbconvert_exporter": "python",
   "pygments_lexer": "ipython3",
   "version": "3.10.9"
  },
  "orig_nbformat": 4
 },
 "nbformat": 4,
 "nbformat_minor": 2
}
