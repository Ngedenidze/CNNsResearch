{
 "cells": [
  {
   "cell_type": "code",
   "execution_count": null,
   "metadata": {},
   "outputs": [],
   "source": [
    "import tensorflow as tf\n",
    "import numpy as np\n",
    "import matplotlib.pyplot as plt\n",
    "\n",
    "# Load and preprocess the dataset\n",
    "mnist = tf.keras.datasets.mnist\n",
    "(train_images, train_labels), (test_images, test_labels) = mnist.load_data()\n",
    "train_images = train_images.reshape((60000, 28, 28, 1))\n",
    "train_images = train_images / 255.0\n",
    "test_images = test_images.reshape((10000, 28, 28, 1))\n",
    "test_images = test_images / 255.0\n",
    "\n",
    "# Define the CNN architecture\n",
    "model = tf.keras.models.Sequential([\n",
    "    tf.keras.layers.Conv2D(8, (3, 3), activation='relu', input_shape=(28, 28, 1), name='conv2d_1'),\n",
    "    tf.keras.layers.MaxPooling2D((2, 2), name='max_pooling2d_1'),\n",
    "    tf.keras.layers.Conv2D(8, (3, 3), activation='relu', name='conv2d_2'),\n",
    "    tf.keras.layers.MaxPooling2D((2, 2), name='max_pooling2d_2'),\n",
    "    tf.keras.layers.Conv2D(8, (3, 3), activation='relu', input_shape=(28, 28, 1), name='conv2d_1'),\n",
    "    tf.keras.layers.MaxPooling2D((2, 2), name='max_pooling2d_1'),\n",
    "    tf.keras.layers.Conv2D(8, (3, 3), activation='relu', name='conv2d_2'),\n",
    "    tf.keras.layers.Flatten(name='flatten'),\n",
    "    tf.keras.layers.Dense(10, activation='softmax', name='dense')\n",
    "])\n",
    "\n",
    "# Compile the model\n",
    "model.compile(optimizer='adam',\n",
    "              loss='sparse_categorical_crossentropy',\n",
    "              metrics=['accuracy'])\n",
    "\n",
    "# Define a function to display the activations of each layer\n",
    "def display_activations(activations, layer_names, input_image):\n",
    "    # Display the input image\n",
    "    plt.imshow(input_image.squeeze(), cmap='gray')\n",
    "    plt.title('Input Image')\n",
    "    plt.show()\n",
    "\n",
    "    # Display the layer activations for the first test image\n",
    "    fig, axs = plt.subplots(nrows=1, ncols=len(layer_names), figsize=(20, 2))\n",
    "    for i, layer_activation in enumerate(activations):\n",
    "        # Display the input image for the first layer\n",
    "        if i == 0:\n",
    "            axs[i].imshow(img.squeeze(), cmap='gray')\n",
    "            axs[i].set_title('Input Image')\n",
    "        else:\n",
    "            # Display the activation maps for the other layers\n",
    "            axs[i].set_title(layer_names[i-1] + ' Activations')\n",
    "            for j in range(layer_activation.shape[-1]):\n",
    "                row, col = divmod(j, 8)\n",
    "                axs[i].imshow(layer_activation[0, :, :, j].squeeze(), cmap='gray')\n",
    "                axs[i].axis('off')\n",
    "    plt.suptitle(layer_names[i] + ' Activations', fontsize=16)\n",
    "    plt.show()\n",
    "\n",
    "# Train the model and display the activations after each epoch\n",
    "for epoch in range(3):\n",
    "    print('Epoch', epoch)\n",
    "    history = model.fit(train_images, train_labels, epochs=1, validation_data=(test_images, test_labels))\n",
    "\n",
    "    # Get the layer outputs and names\n",
    "    layer_outputs = [layer.output for layer in model.layers]\n",
    "    activation_model = tf.keras.models.Model(inputs=model.input, outputs=layer_outputs)\n",
    "\n",
    "    # Get the activations and display them for the first test image\n",
    "    activations = activation_model.predict(test_images[:1])\n",
    "    layer_names = [layer.name for layer in model.layers]\n",
    "    display_activations(activations, layer_names, test_images[0])\n"
   ]
  }
 ],
 "metadata": {
  "kernelspec": {
   "display_name": "Python 3.10.9 ('tensorflow')",
   "language": "python",
   "name": "python3"
  },
  "language_info": {
   "name": "python",
   "version": "3.10.9"
  },
  "orig_nbformat": 4,
  "vscode": {
   "interpreter": {
    "hash": "3d6dc0d995d30a111fbecb8bfd48ff9ac7ef3957268ee37722700d2342d41e2e"
   }
  }
 },
 "nbformat": 4,
 "nbformat_minor": 2
}
