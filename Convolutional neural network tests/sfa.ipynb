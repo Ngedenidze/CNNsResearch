
import numpy as np
from tensorflow import keras
from sklearn.metrics import accuracy_score

# Load the MNIST dataset
(x_train, y_train), (x_test, y_test) = keras.datasets.mnist.load_data()

# Preprocess the data
x_train = x_train.reshape((60000, 28, 28, 1))
x_test = x_test.reshape((10000, 28, 28, 1))
x_train = x_train.astype('float32') / 255.0
x_test = x_test.astype('float32') / 255.0
y_train = keras.utils.to_categorical(y_train)
y_test = keras.utils.to_categorical(y_test)

# Define the DCNN models
models = [    keras.Sequential([        keras.layers.Conv2D(32, (3,3), activation='relu', input_shape=(28,28,1)),        keras.layers.MaxPooling2D((2,2)),        keras.layers.Flatten(),        keras.layers.Dense(10, activation='softmax')    ]),
    keras.Sequential([
        keras.layers.Conv2D(64, (3,3), activation='relu', input_shape=(28,28,1)),
        keras.layers.MaxPooling2D((2,2)),
        keras.layers.Conv2D(32, (3,3), activation='relu'),
        keras.layers.MaxPooling2D((2,2)),
        keras.layers.Flatten(),
        keras.layers.Dense(10, activation='softmax')
    ]),
    keras.Sequential([
        keras.layers.Conv2D(64, (3,3), activation='relu', input_shape=(28,28,1)),
        keras.layers.BatchNormalization(),
        keras.layers.MaxPooling2D((2,2)),
        keras.layers.Conv2D(32, (3,3), activation='relu'),
        keras.layers.BatchNormalization(),
        keras.layers.MaxPooling2D((2,2)),
        keras.layers.Flatten(),
        keras.layers.Dense(10, activation='softmax')
    ])
]

# Train the DCNN models and evaluate their performance
for i, model in enumerate(models):
    model.compile(optimizer='adam', loss='categorical_crossentropy', metrics=['accuracy'])
    model.fit(x_train, y_train, epochs=5, batch_size=32, validation_data=(x_test, y_test))
    y_pred = model.predict(x_test)
    acc = accuracy_score
