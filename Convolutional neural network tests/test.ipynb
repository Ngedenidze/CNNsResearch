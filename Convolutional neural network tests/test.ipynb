{
 "cells": [
  {
   "cell_type": "code",
   "execution_count": 3,
   "metadata": {},
   "outputs": [],
   "source": [
    "import numpy as np\n",
    "from tensorflow import keras\n",
    "from tensorflow.keras import layers\n",
    "from tensorflow.keras.datasets import mnist\n",
    "\n",
    "# Load the MNIST dataset\n",
    "(x_train, y_train), (x_test, y_test) = mnist.load_data()\n",
    "\n",
    "\n",
    "# Scale the pixel values from [0, 255] to [0, 1]\n",
    "x_train = x_train.astype(\"float32\") / 255\n",
    "x_test = x_test.astype(\"float32\") / 255\n",
    "\n",
    "# Reshape the images to be 28x28x1\n",
    "x_train = np.expand_dims(x_train, -1)\n",
    "x_test = np.expand_dims(x_test, -1)\n",
    "\n",
    "# Define the CNN model\n",
    "model = keras.Sequential(\n",
    "    [\n",
    "        keras.Input(shape=(28, 28, 1)),\n",
    "        layers.Conv2D(32, kernel_size=(3, 3), activation=\"relu\"),\n",
    "        layers.MaxPooling2D(pool_size=(2, 2)),\n",
    "        layers.Conv2D(64, kernel_size=(3, 3), activation=\"relu\"),\n",
    "        layers.MaxPooling2D(pool_size=(2, 2)),\n",
    "        layers.Flatten(),\n",
    "        layers.Dropout(0.5),\n",
    "        layers.Dense(10, activation=\"softmax\"),\n",
    "    ]\n",
    ")\n",
    "from keras.utils import to_categorical\n",
    "\n",
    "y_train = to_categorical(y_train, num_classes=10)\n",
    "y_test = to_categorical(y_test, num_classes=10)\n",
    "\n",
    "\n",
    "# Compile the model\n",
    "model.compile(loss=\"categorical_crossentropy\", optimizer=\"adam\", metrics=[\"accuracy\"])\n",
    "\n",
    "\n",
    "\n"
   ]
  },
  {
   "cell_type": "code",
   "execution_count": 4,
   "metadata": {},
   "outputs": [
    {
     "name": "stdout",
     "output_type": "stream",
     "text": [
      "Epoch 1/5\n"
     ]
    },
    {
     "name": "stderr",
     "output_type": "stream",
     "text": [
      "2023-02-21 14:32:13.293023: I tensorflow/core/grappler/optimizers/custom_graph_optimizer_registry.cc:113] Plugin optimizer for device_type GPU is enabled.\n"
     ]
    },
    {
     "name": "stdout",
     "output_type": "stream",
     "text": [
      "422/422 [==============================] - ETA: 0s - loss: 0.3628 - accuracy: 0.8899"
     ]
    },
    {
     "name": "stderr",
     "output_type": "stream",
     "text": [
      "2023-02-21 14:32:20.181002: I tensorflow/core/grappler/optimizers/custom_graph_optimizer_registry.cc:113] Plugin optimizer for device_type GPU is enabled.\n"
     ]
    },
    {
     "name": "stdout",
     "output_type": "stream",
     "text": [
      "422/422 [==============================] - 7s 15ms/step - loss: 0.3628 - accuracy: 0.8899 - val_loss: 0.0891 - val_accuracy: 0.9762\n",
      "Epoch 2/5\n",
      "422/422 [==============================] - 6s 15ms/step - loss: 0.1126 - accuracy: 0.9659 - val_loss: 0.0664 - val_accuracy: 0.9807\n",
      "Epoch 3/5\n",
      "422/422 [==============================] - 6s 14ms/step - loss: 0.0871 - accuracy: 0.9733 - val_loss: 0.0529 - val_accuracy: 0.9858\n",
      "Epoch 4/5\n",
      "422/422 [==============================] - 6s 15ms/step - loss: 0.0705 - accuracy: 0.9775 - val_loss: 0.0453 - val_accuracy: 0.9870\n",
      "Epoch 5/5\n",
      "422/422 [==============================] - 6s 14ms/step - loss: 0.0623 - accuracy: 0.9804 - val_loss: 0.0408 - val_accuracy: 0.9878\n",
      "Test loss: 0.04263678938150406\n",
      "Test accuracy: 0.9859000444412231\n"
     ]
    }
   ],
   "source": [
    "# Train the model\n",
    "model.fit(x_train, y_train, batch_size=128, epochs=5, validation_split=0.1)\n",
    "\n",
    "# Evaluate the model\n",
    "score = model.evaluate(x_test, y_test, verbose=0)\n",
    "print(\"Test loss:\", score[0])\n",
    "print(\"Test accuracy:\", score[1])\n"
   ]
  },
  {
   "cell_type": "code",
   "execution_count": 7,
   "metadata": {},
   "outputs": [
    {
     "name": "stdout",
     "output_type": "stream",
     "text": [
      "Epoch 1/5\n",
      "422/422 [==============================] - 7s 16ms/step - loss: 0.0322 - accuracy: 0.9899 - val_loss: 0.0314 - val_accuracy: 0.9910\n",
      "Epoch 2/5\n",
      "422/422 [==============================] - 7s 16ms/step - loss: 0.0306 - accuracy: 0.9899 - val_loss: 0.0291 - val_accuracy: 0.9928\n",
      "Epoch 3/5\n",
      "422/422 [==============================] - 7s 16ms/step - loss: 0.0283 - accuracy: 0.9910 - val_loss: 0.0331 - val_accuracy: 0.9902\n",
      "Epoch 4/5\n",
      "422/422 [==============================] - 7s 16ms/step - loss: 0.0287 - accuracy: 0.9912 - val_loss: 0.0333 - val_accuracy: 0.9922\n",
      "Epoch 5/5\n",
      "422/422 [==============================] - 7s 16ms/step - loss: 0.0272 - accuracy: 0.9907 - val_loss: 0.0300 - val_accuracy: 0.9912\n"
     ]
    },
    {
     "ename": "NameError",
     "evalue": "name 'tf' is not defined",
     "output_type": "error",
     "traceback": [
      "\u001b[0;31m---------------------------------------------------------------------------\u001b[0m",
      "\u001b[0;31mNameError\u001b[0m                                 Traceback (most recent call last)",
      "Cell \u001b[0;32mIn[7], line 5\u001b[0m\n\u001b[1;32m      2\u001b[0m model\u001b[39m.\u001b[39mfit(x_train, y_train, batch_size\u001b[39m=\u001b[39m\u001b[39m128\u001b[39m, epochs\u001b[39m=\u001b[39m\u001b[39m5\u001b[39m, validation_split\u001b[39m=\u001b[39m\u001b[39m0.1\u001b[39m)\n\u001b[1;32m      4\u001b[0m \u001b[39m# Forward pass\u001b[39;00m\n\u001b[0;32m----> 5\u001b[0m \u001b[39mwith\u001b[39;00m tf\u001b[39m.\u001b[39mGradientTape() \u001b[39mas\u001b[39;00m tape:\n\u001b[1;32m      6\u001b[0m     outputs \u001b[39m=\u001b[39m model(x_train[:\u001b[39m128\u001b[39m])\n\u001b[1;32m      7\u001b[0m     loss_value \u001b[39m=\u001b[39m keras\u001b[39m.\u001b[39mlosses\u001b[39m.\u001b[39mcategorical_crossentropy(y_train[:\u001b[39m128\u001b[39m], outputs)\n",
      "\u001b[0;31mNameError\u001b[0m: name 'tf' is not defined"
     ]
    }
   ],
   "source": [
    "# Train the model with backpropagation\n",
    "model.fit(x_train, y_train, batch_size=128, epochs=5, validation_split=0.1)\n",
    "\n",
    "# Forward pass\n",
    "with tf.GradientTape() as tape:\n",
    "    outputs = model(x_train[:128])\n",
    "    loss_value = keras.losses.categorical_crossentropy(y_train[:128], outputs)\n",
    "print(\"Loss:\", loss_value.numpy())\n",
    "\n",
    "# Backward pass\n",
    "grads = tape.gradient(loss_value, model.trainable_weights)\n",
    "print(\"Gradients:\", grads)\n",
    "\n",
    "# Update the weights using the gradients\n",
    "optimizer = keras.optimizers.SGD(learning_rate=0.01)\n",
    "optimizer.apply_gradients(zip(grads, model.trainable_weights))\n"
   ]
  }
 ],
 "metadata": {
  "kernelspec": {
   "display_name": "Python 3.10.9 ('tensorflow')",
   "language": "python",
   "name": "python3"
  },
  "language_info": {
   "codemirror_mode": {
    "name": "ipython",
    "version": 3
   },
   "file_extension": ".py",
   "mimetype": "text/x-python",
   "name": "python",
   "nbconvert_exporter": "python",
   "pygments_lexer": "ipython3",
   "version": "3.10.9"
  },
  "orig_nbformat": 4,
  "vscode": {
   "interpreter": {
    "hash": "3d6dc0d995d30a111fbecb8bfd48ff9ac7ef3957268ee37722700d2342d41e2e"
   }
  }
 },
 "nbformat": 4,
 "nbformat_minor": 2
}
