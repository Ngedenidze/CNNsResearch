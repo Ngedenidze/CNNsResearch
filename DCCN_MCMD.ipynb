{
 "cells": [
  {
   "cell_type": "code",
   "execution_count": 1,
   "metadata": {},
   "outputs": [
    {
     "name": "stderr",
     "output_type": "stream",
     "text": [
      "/Users/gedena/miniconda3/lib/python3.10/site-packages/scipy/__init__.py:146: UserWarning: A NumPy version >=1.16.5 and <1.23.0 is required for this version of SciPy (detected version 1.23.0\n",
      "  warnings.warn(f\"A NumPy version >={np_minversion} and <{np_maxversion}\"\n",
      "2023-02-21 14:48:38.250077: I tensorflow/core/common_runtime/pluggable_device/pluggable_device_factory.cc:305] Could not identify NUMA node of platform GPU ID 0, defaulting to 0. Your kernel may not have been built with NUMA support.\n",
      "2023-02-21 14:48:38.250260: I tensorflow/core/common_runtime/pluggable_device/pluggable_device_factory.cc:271] Created TensorFlow device (/job:localhost/replica:0/task:0/device:GPU:0 with 0 MB memory) -> physical PluggableDevice (device: 0, name: METAL, pci bus id: <undefined>)\n"
     ]
    },
    {
     "name": "stdout",
     "output_type": "stream",
     "text": [
      "Metal device set to: Apple M2\n",
      "\n",
      "systemMemory: 8.00 GB\n",
      "maxCacheSize: 2.67 GB\n",
      "\n",
      "Epoch 1/5\n"
     ]
    },
    {
     "name": "stderr",
     "output_type": "stream",
     "text": [
      "2023-02-21 14:48:38.704088: W tensorflow/core/platform/profile_utils/cpu_utils.cc:128] Failed to get CPU frequency: 0 Hz\n",
      "2023-02-21 14:48:38.900196: I tensorflow/core/grappler/optimizers/custom_graph_optimizer_registry.cc:113] Plugin optimizer for device_type GPU is enabled.\n"
     ]
    },
    {
     "name": "stdout",
     "output_type": "stream",
     "text": [
      "1869/1875 [============================>.] - ETA: 0s - loss: 0.2128 - accuracy: 0.9402"
     ]
    },
    {
     "name": "stderr",
     "output_type": "stream",
     "text": [
      "2023-02-21 14:48:51.127001: I tensorflow/core/grappler/optimizers/custom_graph_optimizer_registry.cc:113] Plugin optimizer for device_type GPU is enabled.\n"
     ]
    },
    {
     "name": "stdout",
     "output_type": "stream",
     "text": [
      "1875/1875 [==============================] - 14s 7ms/step - loss: 0.2123 - accuracy: 0.9403 - val_loss: 0.0856 - val_accuracy: 0.9751\n",
      "Epoch 2/5\n",
      "1875/1875 [==============================] - 13s 7ms/step - loss: 0.0815 - accuracy: 0.9764 - val_loss: 0.0661 - val_accuracy: 0.9793\n",
      "Epoch 3/5\n",
      "1875/1875 [==============================] - 13s 7ms/step - loss: 0.0625 - accuracy: 0.9816 - val_loss: 0.0619 - val_accuracy: 0.9799\n",
      "Epoch 4/5\n",
      "1875/1875 [==============================] - 13s 7ms/step - loss: 0.0522 - accuracy: 0.9846 - val_loss: 0.0585 - val_accuracy: 0.9808\n",
      "Epoch 5/5\n",
      "1875/1875 [==============================] - 13s 7ms/step - loss: 0.0437 - accuracy: 0.9871 - val_loss: 0.0528 - val_accuracy: 0.9817\n",
      "106/313 [=========>....................] - ETA: 0s"
     ]
    },
    {
     "name": "stderr",
     "output_type": "stream",
     "text": [
      "2023-02-21 14:49:44.900406: I tensorflow/core/grappler/optimizers/custom_graph_optimizer_registry.cc:113] Plugin optimizer for device_type GPU is enabled.\n"
     ]
    },
    {
     "name": "stdout",
     "output_type": "stream",
     "text": [
      "313/313 [==============================] - 0s 1ms/step\n",
      "Epoch 1/5\n"
     ]
    },
    {
     "name": "stderr",
     "output_type": "stream",
     "text": [
      "2023-02-21 14:49:45.593405: I tensorflow/core/grappler/optimizers/custom_graph_optimizer_registry.cc:113] Plugin optimizer for device_type GPU is enabled.\n"
     ]
    },
    {
     "name": "stdout",
     "output_type": "stream",
     "text": [
      "1875/1875 [==============================] - ETA: 0s - loss: 0.1761 - accuracy: 0.9467"
     ]
    },
    {
     "name": "stderr",
     "output_type": "stream",
     "text": [
      "2023-02-21 14:50:05.125202: I tensorflow/core/grappler/optimizers/custom_graph_optimizer_registry.cc:113] Plugin optimizer for device_type GPU is enabled.\n"
     ]
    },
    {
     "name": "stdout",
     "output_type": "stream",
     "text": [
      "1875/1875 [==============================] - 21s 11ms/step - loss: 0.1761 - accuracy: 0.9467 - val_loss: 0.0606 - val_accuracy: 0.9794\n",
      "Epoch 2/5\n",
      "1875/1875 [==============================] - 22s 12ms/step - loss: 0.0604 - accuracy: 0.9817 - val_loss: 0.0537 - val_accuracy: 0.9807\n",
      "Epoch 3/5\n",
      "1875/1875 [==============================] - 21s 11ms/step - loss: 0.0450 - accuracy: 0.9859 - val_loss: 0.0353 - val_accuracy: 0.9878\n",
      "Epoch 4/5\n",
      "1875/1875 [==============================] - 21s 11ms/step - loss: 0.0355 - accuracy: 0.9889 - val_loss: 0.0345 - val_accuracy: 0.9879\n",
      "Epoch 5/5\n",
      "1875/1875 [==============================] - 21s 11ms/step - loss: 0.0279 - accuracy: 0.9910 - val_loss: 0.0308 - val_accuracy: 0.9897\n",
      " 83/313 [======>.......................] - ETA: 0s"
     ]
    },
    {
     "name": "stderr",
     "output_type": "stream",
     "text": [
      "2023-02-21 14:51:31.023504: I tensorflow/core/grappler/optimizers/custom_graph_optimizer_registry.cc:113] Plugin optimizer for device_type GPU is enabled.\n"
     ]
    },
    {
     "name": "stdout",
     "output_type": "stream",
     "text": [
      "313/313 [==============================] - 1s 2ms/step\n",
      "Epoch 1/5\n"
     ]
    },
    {
     "name": "stderr",
     "output_type": "stream",
     "text": [
      "2023-02-21 14:51:31.911072: I tensorflow/core/grappler/optimizers/custom_graph_optimizer_registry.cc:113] Plugin optimizer for device_type GPU is enabled.\n"
     ]
    },
    {
     "name": "stdout",
     "output_type": "stream",
     "text": [
      "1875/1875 [==============================] - ETA: 0s - loss: 0.1186 - accuracy: 0.9635"
     ]
    },
    {
     "name": "stderr",
     "output_type": "stream",
     "text": [
      "2023-02-21 14:51:54.981386: I tensorflow/core/grappler/optimizers/custom_graph_optimizer_registry.cc:113] Plugin optimizer for device_type GPU is enabled.\n"
     ]
    },
    {
     "name": "stdout",
     "output_type": "stream",
     "text": [
      "1875/1875 [==============================] - 25s 13ms/step - loss: 0.1186 - accuracy: 0.9635 - val_loss: 0.0480 - val_accuracy: 0.9856\n",
      "Epoch 2/5\n",
      "1875/1875 [==============================] - 24s 13ms/step - loss: 0.0480 - accuracy: 0.9852 - val_loss: 0.0364 - val_accuracy: 0.9886\n",
      "Epoch 3/5\n",
      "1875/1875 [==============================] - 24s 13ms/step - loss: 0.0371 - accuracy: 0.9885 - val_loss: 0.0415 - val_accuracy: 0.9871\n",
      "Epoch 4/5\n",
      "1875/1875 [==============================] - 23s 12ms/step - loss: 0.0278 - accuracy: 0.9912 - val_loss: 0.0499 - val_accuracy: 0.9853\n",
      "Epoch 5/5\n",
      "1875/1875 [==============================] - 24s 13ms/step - loss: 0.0240 - accuracy: 0.9923 - val_loss: 0.0401 - val_accuracy: 0.9889\n",
      " 71/313 [=====>........................] - ETA: 0s"
     ]
    },
    {
     "name": "stderr",
     "output_type": "stream",
     "text": [
      "2023-02-21 14:53:31.211363: I tensorflow/core/grappler/optimizers/custom_graph_optimizer_registry.cc:113] Plugin optimizer for device_type GPU is enabled.\n"
     ]
    },
    {
     "name": "stdout",
     "output_type": "stream",
     "text": [
      "313/313 [==============================] - 1s 3ms/step\n"
     ]
    }
   ],
   "source": [
    "import numpy as np\n",
    "from tensorflow import keras\n",
    "from sklearn.metrics import accuracy_score\n",
    "\n",
    "# Load the MNIST dataset\n",
    "(x_train, y_train), (x_test, y_test) = keras.datasets.mnist.load_data()\n",
    "\n",
    "# Preprocess the data\n",
    "x_train = x_train.reshape((60000, 28, 28, 1))\n",
    "x_test = x_test.reshape((10000, 28, 28, 1))\n",
    "x_train = x_train.astype('float32') / 255.0\n",
    "x_test = x_test.astype('float32') / 255.0\n",
    "y_train = keras.utils.to_categorical(y_train)\n",
    "y_test = keras.utils.to_categorical(y_test)\n",
    "\n",
    "# Define the DCNN models\n",
    "models = [    \n",
    "    keras.Sequential([    \n",
    "        keras.layers.Conv2D(32, (3,3), activation='relu', input_shape=(28,28,1)),        \n",
    "        keras.layers.MaxPooling2D((2,2)),        \n",
    "        keras.layers.Flatten(),        \n",
    "        keras.layers.Dense(10, activation='softmax')    \n",
    "        ]),\n",
    "    keras.Sequential([\n",
    "        keras.layers.Conv2D(64, (3,3), activation='relu', input_shape=(28,28,1)),\n",
    "        keras.layers.MaxPooling2D((2,2)),\n",
    "        keras.layers.Conv2D(32, (3,3), activation='relu'),\n",
    "        keras.layers.MaxPooling2D((2,2)),\n",
    "        keras.layers.Flatten(),\n",
    "        keras.layers.Dense(10, activation='softmax')\n",
    "    ]),\n",
    "    keras.Sequential([\n",
    "        keras.layers.Conv2D(64, (3,3), activation='relu', input_shape=(28,28,1)),\n",
    "        keras.layers.BatchNormalization(),\n",
    "        keras.layers.MaxPooling2D((2,2)),\n",
    "        keras.layers.Conv2D(32, (3,3), activation='relu'),\n",
    "        keras.layers.BatchNormalization(),\n",
    "        keras.layers.MaxPooling2D((2,2)),\n",
    "        keras.layers.Flatten(),\n",
    "        keras.layers.Dense(10, activation='softmax')\n",
    "    ])\n",
    "]\n",
    "\n",
    "# Train the DCNN models and evaluate their performance\n",
    "for i, model in enumerate(models):\n",
    "    model.compile(optimizer='adam', loss='categorical_crossentropy', metrics=['accuracy'])\n",
    "    model.fit(x_train, y_train, epochs=5, batch_size=32, validation_data=(x_test, y_test))\n",
    "    y_pred = model.predict(x_test)\n",
    "    acc = accuracy_score\n"
   ]
  }
 ],
 "metadata": {
  "kernelspec": {
   "display_name": "Python 3.10 (tensorflow)",
   "language": "python",
   "name": "tensorflow"
  },
  "language_info": {
   "codemirror_mode": {
    "name": "ipython",
    "version": 3
   },
   "file_extension": ".py",
   "mimetype": "text/x-python",
   "name": "python",
   "nbconvert_exporter": "python",
   "pygments_lexer": "ipython3",
   "version": "3.10.9"
  },
  "orig_nbformat": 4,
  "vscode": {
   "interpreter": {
    "hash": "3d6dc0d995d30a111fbecb8bfd48ff9ac7ef3957268ee37722700d2342d41e2e"
   }
  }
 },
 "nbformat": 4,
 "nbformat_minor": 2
}
