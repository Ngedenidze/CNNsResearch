{
 "cells": [
  {
   "cell_type": "code",
   "execution_count": 1,
   "metadata": {},
   "outputs": [
    {
     "name": "stderr",
     "output_type": "stream",
     "text": [
      "/Users/gedena/miniconda3/lib/python3.10/site-packages/scipy/__init__.py:146: UserWarning: A NumPy version >=1.16.5 and <1.23.0 is required for this version of SciPy (detected version 1.23.0\n",
      "  warnings.warn(f\"A NumPy version >={np_minversion} and <{np_maxversion}\"\n"
     ]
    },
    {
     "name": "stdout",
     "output_type": "stream",
     "text": [
      "Metal device set to: Apple M2\n",
      "\n",
      "systemMemory: 8.00 GB\n",
      "maxCacheSize: 2.67 GB\n",
      "\n"
     ]
    },
    {
     "name": "stderr",
     "output_type": "stream",
     "text": [
      "2023-03-03 22:14:33.555515: I tensorflow/core/common_runtime/pluggable_device/pluggable_device_factory.cc:305] Could not identify NUMA node of platform GPU ID 0, defaulting to 0. Your kernel may not have been built with NUMA support.\n",
      "2023-03-03 22:14:33.555616: I tensorflow/core/common_runtime/pluggable_device/pluggable_device_factory.cc:271] Created TensorFlow device (/job:localhost/replica:0/task:0/device:GPU:0 with 0 MB memory) -> physical PluggableDevice (device: 0, name: METAL, pci bus id: <undefined>)\n"
     ]
    },
    {
     "name": "stdout",
     "output_type": "stream",
     "text": [
      "Epoch 1/5\n"
     ]
    },
    {
     "name": "stderr",
     "output_type": "stream",
     "text": [
      "2023-03-03 22:14:33.853243: W tensorflow/core/platform/profile_utils/cpu_utils.cc:128] Failed to get CPU frequency: 0 Hz\n",
      "2023-03-03 22:14:34.001323: I tensorflow/core/grappler/optimizers/custom_graph_optimizer_registry.cc:113] Plugin optimizer for device_type GPU is enabled.\n"
     ]
    },
    {
     "name": "stdout",
     "output_type": "stream",
     "text": [
      "1870/1875 [============================>.] - ETA: 0s - loss: 0.5394 - accuracy: 0.8141"
     ]
    },
    {
     "name": "stderr",
     "output_type": "stream",
     "text": [
      "2023-03-03 22:14:43.833143: I tensorflow/core/grappler/optimizers/custom_graph_optimizer_registry.cc:113] Plugin optimizer for device_type GPU is enabled.\n"
     ]
    },
    {
     "name": "stdout",
     "output_type": "stream",
     "text": [
      "1875/1875 [==============================] - 11s 6ms/step - loss: 0.5389 - accuracy: 0.8142 - val_loss: 0.4431 - val_accuracy: 0.8463\n",
      "Epoch 2/5\n",
      "1875/1875 [==============================] - 10s 6ms/step - loss: 0.4093 - accuracy: 0.8570 - val_loss: 0.4338 - val_accuracy: 0.8464\n",
      "Epoch 3/5\n",
      "1875/1875 [==============================] - 10s 6ms/step - loss: 0.3750 - accuracy: 0.8684 - val_loss: 0.3894 - val_accuracy: 0.8644\n",
      "Epoch 4/5\n",
      "1875/1875 [==============================] - 10s 5ms/step - loss: 0.3510 - accuracy: 0.8767 - val_loss: 0.3728 - val_accuracy: 0.8673\n",
      "Epoch 5/5\n",
      "1875/1875 [==============================] - 10s 5ms/step - loss: 0.3383 - accuracy: 0.8803 - val_loss: 0.3788 - val_accuracy: 0.8634\n",
      "313/313 - 1s - loss: 0.3788 - accuracy: 0.8634 - 1s/epoch - 4ms/step\n",
      "Test accuracy: 0.8634000420570374\n",
      "Time elapsed:  52.89159798622131\n"
     ]
    },
    {
     "data": {
      "image/png": "[encoded data removed]",
      "text/plain": [
       "<Figure size 640x480 with 1 Axes>"
      ]
     },
     "metadata": {},
     "output_type": "display_data"
    }
   ],
   "source": [
    "import tensorflow as tf\n",
    "import numpy as np\n",
    "import time\n",
    "import matplotlib.pyplot as plt\n",
    "\n",
    "# Load and preprocess the dataset\n",
    "fashion_mnist = tf.keras.datasets.fashion_mnist\n",
    "(train_images, train_labels), (test_images, test_labels) = fashion_mnist.load_data()\n",
    "train_images = train_images.reshape((60000, 28, 28, 1)) # modify input shape to include channel dimension\n",
    "train_images = train_images / 255.0\n",
    "test_images = test_images.reshape((10000, 28, 28, 1))\n",
    "test_images = test_images / 255.0\n",
    "\n",
    "# Define the model architecture\n",
    "model = tf.keras.Sequential([\n",
    "    tf.keras.layers.Conv2D(32, (3, 3), activation='relu', input_shape=(28, 28, 1), name='conv2d_1', trainable=False),\n",
    "    tf.keras.layers.Conv2D(32, (3, 3), activation='relu', name='conv2d_2', trainable=False),\n",
    "    tf.keras.layers.Conv2D(32, (3, 3), activation='relu', name='conv2d_3', trainable=False),\n",
    "    tf.keras.layers.Flatten(name='flatten'),\n",
    "    tf.keras.layers.Dense(10, activation='softmax', name='output')\n",
    "])\n",
    "\n",
    "# Compile the model\n",
    "model.compile(optimizer='adam',\n",
    "              loss='sparse_categorical_crossentropy',\n",
    "              metrics=['accuracy'])\n",
    "\n",
    "# Train the model\n",
    "start_time = time.time()\n",
    "history = model.fit(train_images, train_labels, epochs=5, validation_data=(test_images, test_labels))\n",
    "end_time = time.time()\n",
    "\n",
    "# Evaluate the model\n",
    "test_loss, test_acc = model.evaluate(test_images, test_labels, verbose=2)\n",
    "print('Test accuracy:', test_acc)\n",
    "print('Time elapsed: ', end_time-start_time)\n",
    "\n",
    "# Plot training history\n",
    "plt.plot(history.history['accuracy'], label='train_accuracy')\n",
    "plt.plot(history.history['val_accuracy'], label='val_accuracy')\n",
    "plt.xlabel('Epoch')\n",
    "plt.ylabel('Accuracy')\n",
    "plt.ylim([0.5, 1])\n",
    "plt.legend(loc='lower right')\n",
    "plt.show()\n"
   ]
  },
  {
   "cell_type": "code",
   "execution_count": 2,
   "metadata": {},
   "outputs": [
    {
     "name": "stdout",
     "output_type": "stream",
     "text": [
      "Total time elapsed during training: 6.77 seconds\n",
      "12/12 [==============================] - 0s 4ms/step - loss: 0.2022 - accuracy: 0.9389\n",
      "Test accuracy: 0.9388889074325562\n"
     ]
    }
   ],
   "source": [
    "total_time = end_time - start_time\n",
    "print(f'Total time elapsed during training: {total_time:.2f} seconds')\n",
    "loss, accuracy = model.evaluate(X_test, y_test)\n",
    "print('Test accuracy:', accuracy)\n"
   ]
  },
  {
   "cell_type": "code",
   "execution_count": 3,
   "metadata": {},
   "outputs": [
    {
     "name": "stdout",
     "output_type": "stream",
     "text": [
      "Epoch 1/20\n",
      "22/45 [=============>................] - ETA: 0s - loss: 32.6383 - accuracy: 0.1903"
     ]
    },
    {
     "name": "stderr",
     "output_type": "stream",
     "text": [
      "2023-02-21 14:03:55.939948: I tensorflow/core/grappler/optimizers/custom_graph_optimizer_registry.cc:113] Plugin optimizer for device_type GPU is enabled.\n"
     ]
    },
    {
     "name": "stdout",
     "output_type": "stream",
     "text": [
      "45/45 [==============================] - 0s 5ms/step - loss: 22.3492 - accuracy: 0.2923\n",
      "Epoch 2/20\n",
      "45/45 [==============================] - 0s 5ms/step - loss: 5.1625 - accuracy: 0.6555\n",
      "Epoch 3/20\n",
      "45/45 [==============================] - 0s 5ms/step - loss: 2.6114 - accuracy: 0.7864\n",
      "Epoch 4/20\n",
      "45/45 [==============================] - 0s 6ms/step - loss: 1.6560 - accuracy: 0.8532\n",
      "Epoch 5/20\n",
      "45/45 [==============================] - 0s 5ms/step - loss: 1.0446 - accuracy: 0.8831\n",
      "Epoch 6/20\n",
      "45/45 [==============================] - 0s 5ms/step - loss: 0.7227 - accuracy: 0.9130\n",
      "Epoch 7/20\n",
      "45/45 [==============================] - 0s 6ms/step - loss: 0.4777 - accuracy: 0.9332\n",
      "Epoch 8/20\n",
      "45/45 [==============================] - 0s 5ms/step - loss: 0.3096 - accuracy: 0.9527\n",
      "Epoch 9/20\n",
      "45/45 [==============================] - 0s 5ms/step - loss: 0.1986 - accuracy: 0.9694\n",
      "Epoch 10/20\n",
      "45/45 [==============================] - 0s 5ms/step - loss: 0.1210 - accuracy: 0.9812\n",
      "Epoch 11/20\n",
      "45/45 [==============================] - 0s 5ms/step - loss: 0.0794 - accuracy: 0.9910\n",
      "Epoch 12/20\n",
      "45/45 [==============================] - 0s 5ms/step - loss: 0.0540 - accuracy: 0.9923\n",
      "Epoch 13/20\n",
      "45/45 [==============================] - 0s 5ms/step - loss: 0.0319 - accuracy: 0.9937\n",
      "Epoch 14/20\n",
      "45/45 [==============================] - 0s 5ms/step - loss: 0.0174 - accuracy: 0.9979\n",
      "Epoch 15/20\n",
      "45/45 [==============================] - 0s 5ms/step - loss: 0.0118 - accuracy: 0.9979\n",
      "Epoch 16/20\n",
      "45/45 [==============================] - 0s 5ms/step - loss: 0.0060 - accuracy: 1.0000\n",
      "Epoch 17/20\n",
      "45/45 [==============================] - 0s 5ms/step - loss: 0.0040 - accuracy: 1.0000\n",
      "Epoch 18/20\n",
      "45/45 [==============================] - 0s 5ms/step - loss: 0.0033 - accuracy: 1.0000\n",
      "Epoch 19/20\n",
      "45/45 [==============================] - 0s 5ms/step - loss: 0.0028 - accuracy: 1.0000\n",
      "Epoch 20/20\n",
      "45/45 [==============================] - 0s 5ms/step - loss: 0.0025 - accuracy: 1.0000\n",
      "Test loss: 1.1645, Test accuracy: 0.8472\n"
     ]
    },
    {
     "name": "stderr",
     "output_type": "stream",
     "text": [
      "2023-02-21 14:04:00.594920: I tensorflow/core/grappler/optimizers/custom_graph_optimizer_registry.cc:113] Plugin optimizer for device_type GPU is enabled.\n"
     ]
    }
   ],
   "source": [
    "#binirize after building the architecture\n",
    "# Load the dataset\n",
    "digits = load_digits()\n",
    "\n",
    "# Scale the data\n",
    "scaler = StandardScaler()\n",
    "X = scaler.fit_transform(digits.data)\n",
    "\n",
    "# Split the data into training and testing sets\n",
    "X_train, X_test, y_train, y_test = train_test_split(X, digits.target, test_size=0.2, random_state=42)\n",
    "\n",
    "\n",
    "# Define the model\n",
    "model = tf.keras.models.Sequential([\n",
    "    tf.keras.layers.Dense(128, activation='relu', input_shape=(64,)),\n",
    "    tf.keras.layers.Dense(64, activation='relu'),\n",
    "    tf.keras.layers.Dense(64, activation='relu'),\n",
    "    tf.keras.layers.Dense(10, activation='softmax')\n",
    "])\n",
    "# Get the weights of the first Conv2D layer\n",
    "conv1_weights = model.layers[0].get_weights()[0]\n",
    "conv2_weights = model.layers[1].get_weights()[0]\n",
    "\n",
    "# Apply a threshold of 0 to binarize the weights\n",
    "threshold = 0\n",
    "binary_weights = np.where(conv1_weights >= threshold, 1, -1)\n",
    "binary_weights_2 = np.where(conv2_weights >= threshold, 1, -1)\n",
    "\n",
    "# Set the binarized weights back to the Conv2D layer\n",
    "model.layers[0].set_weights([binary_weights, model.layers[0].get_weights()[1]])\n",
    "model.layers[1].set_weights([binary_weights_2, model.layers[1].get_weights()[1]])\n",
    "\n",
    "\n",
    "# Compile the model\n",
    "model.compile(optimizer='adam', loss='sparse_categorical_crossentropy', metrics=['accuracy'])\n",
    "start_time = time.time()\n",
    "# Train the model\n",
    "model.fit(X_train, y_train, epochs=20)\n",
    "end_time = time.time()\n",
    "# Evaluate the model on the test data\n",
    "loss, accuracy = model.evaluate(X_test, y_test, verbose=0)\n",
    "print(f'Test loss: {loss:.4f}, Test accuracy: {accuracy:.4f}')\n",
    "\n"
   ]
  },
  {
   "cell_type": "code",
   "execution_count": 4,
   "metadata": {},
   "outputs": [
    {
     "name": "stdout",
     "output_type": "stream",
     "text": [
      "Total time elapsed during training: 4.75 seconds\n",
      "12/12 [==============================] - 0s 4ms/step - loss: 1.1645 - accuracy: 0.8472\n",
      "Test accuracy: 0.8472222685813904\n"
     ]
    }
   ],
   "source": [
    "total_time = end_time - start_time\n",
    "print(f'Total time elapsed during training: {total_time:.2f} seconds')\n",
    "loss, accuracy = model.evaluate(X_test, y_test)\n",
    "print('Test accuracy:', accuracy)\n"
   ]
  }
 ],
 "metadata": {
  "kernelspec": {
   "display_name": "Python 3.10 (tensorflow)",
   "language": "python",
   "name": "tensorflow"
  },
  "language_info": {
   "codemirror_mode": {
    "name": "ipython",
    "version": 3
   },
   "file_extension": ".py",
   "mimetype": "text/x-python",
   "name": "python",
   "nbconvert_exporter": "python",
   "pygments_lexer": "ipython3",
   "version": "3.10.9"
  },
  "orig_nbformat": 4,
  "vscode": {
   "interpreter": {
    "hash": "3d6dc0d995d30a111fbecb8bfd48ff9ac7ef3957268ee37722700d2342d41e2e"
   }
  }
 },
 "nbformat": 4,
 "nbformat_minor": 2
}
